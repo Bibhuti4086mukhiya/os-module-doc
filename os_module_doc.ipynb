{
 "cells": [
  {
   "cell_type": "code",
   "execution_count": null,
   "id": "1f8802cb",
   "metadata": {},
   "outputs": [],
   "source": []
  },
  {
   "cell_type": "code",
   "execution_count": 6,
   "id": "37104ed9",
   "metadata": {},
   "outputs": [
    {
     "data": {
      "text/plain": [
       "'C:\\\\Users\\\\Dell\\\\Desktop\\\\projects\\\\automate-create-project'"
      ]
     },
     "execution_count": 6,
     "metadata": {},
     "output_type": "execute_result"
    }
   ],
   "source": [
    "import os\n",
    "# os.environ #user’s environmental variable\n",
    "# print(os.environ[\"PATH\"]) #access the environmental variables using your normal dictionary methods\n",
    "# os.getenv(\"TMP\") #access this environmental variable\n",
    "# os.chdir() # change the directory that we’re currently running our Python session in.\n",
    "# os.getcwd() # current working directory\n",
    "\n"
   ]
  },
  {
   "cell_type": "code",
   "execution_count": null,
   "id": "fa450266",
   "metadata": {},
   "outputs": [],
   "source": [
    "os.mkdir()  # create a single folder"
   ]
  },
  {
   "cell_type": "code",
   "execution_count": 8,
   "id": "3be49f05",
   "metadata": {},
   "outputs": [],
   "source": [
    "path = r'C:\\Users\\mike\\Documents\\pytest\\2014\\02\\19'\n",
    "os.makedirs(path)"
   ]
  },
  {
   "cell_type": "code",
   "execution_count": null,
   "id": "b3407401",
   "metadata": {},
   "outputs": [],
   "source": [
    "os.remove(\"test.txt\")"
   ]
  },
  {
   "cell_type": "code",
   "execution_count": 10,
   "id": "608aa929",
   "metadata": {},
   "outputs": [],
   "source": [
    "os.rmdir(\"pytest\")"
   ]
  },
  {
   "cell_type": "code",
   "execution_count": 13,
   "id": "e1b0553a",
   "metadata": {},
   "outputs": [],
   "source": [
    "# os.removedirs() #which can remove nested empty directories recursively."
   ]
  },
  {
   "cell_type": "code",
   "execution_count": null,
   "id": "bcfc61e3",
   "metadata": {},
   "outputs": [],
   "source": [
    "# os.rename(src, dst) #rename a file or folder\n",
    "os.rename(\"test.txt\", \"pytest.txt\")"
   ]
  },
  {
   "cell_type": "code",
   "execution_count": 17,
   "id": "81a355ec",
   "metadata": {},
   "outputs": [],
   "source": [
    "# The os.startfile() method allows us to “start” a file with its associated program\n",
    "os.startfile(r'C:\\\\Users\\\\Dell\\\\Desktop\\\\projects\\\\automate-create-project')"
   ]
  },
  {
   "cell_type": "code",
   "execution_count": 18,
   "id": "90504a5c",
   "metadata": {},
   "outputs": [
    {
     "name": "stdout",
     "output_type": "stream",
     "text": [
      "C:\\\\Users\\\\Dell\\\\Desktop\\\\projects\\\\automate-create-project\n",
      "C:\\\\Users\\\\Dell\\\\Desktop\\\\projects\\\\automate-create-project\\.ipynb_checkpoints\n"
     ]
    }
   ],
   "source": [
    "# get access to all its sub-directories and files\n",
    "path = r'C:\\\\Users\\\\Dell\\\\Desktop\\\\projects\\\\automate-create-project'\n",
    "for root, dirs, files in os.walk(path):\n",
    "        print(root)"
   ]
  },
  {
   "cell_type": "code",
   "execution_count": 19,
   "id": "bea85961",
   "metadata": {},
   "outputs": [
    {
     "data": {
      "text/plain": [
       "'automate-create-project'"
      ]
     },
     "execution_count": 19,
     "metadata": {},
     "output_type": "execute_result"
    }
   ],
   "source": [
    "# The basename function will return just the filename of a path\n",
    "os.path.basename(r'C:\\\\Users\\\\Dell\\\\Desktop\\\\projects\\\\automate-create-project')"
   ]
  },
  {
   "cell_type": "code",
   "execution_count": 20,
   "id": "5c9f54d2",
   "metadata": {},
   "outputs": [
    {
     "data": {
      "text/plain": [
       "'C:\\\\\\\\Users\\\\\\\\Dell\\\\\\\\Desktop\\\\\\\\projects'"
      ]
     },
     "execution_count": 20,
     "metadata": {},
     "output_type": "execute_result"
    }
   ],
   "source": [
    "# The dirname function will return just the directory portion of the path\n",
    "os.path.dirname(r'C:\\\\Users\\\\Dell\\\\Desktop\\\\projects\\\\automate-create-project')\n",
    "# In this example, we just get the directory path back. This is also useful \n",
    "# when you want to store other files next to the file you’re processing, like the aforementioned log \n",
    "# file."
   ]
  },
  {
   "cell_type": "code",
   "execution_count": 23,
   "id": "27d739fa",
   "metadata": {},
   "outputs": [
    {
     "data": {
      "text/plain": [
       "False"
      ]
     },
     "execution_count": 23,
     "metadata": {},
     "output_type": "execute_result"
    }
   ],
   "source": [
    "# The exists function will tell you if a path exists or not\n",
    "os.path.exists(r'C:\\Python27\\Tools\\pynche\\ChipViewer.py')\n",
    "os.path.exists(r'C:\\\\Users\\\\Dell\\\\Desktop\\\\projects\\\\automate-create-project')\n"
   ]
  },
  {
   "cell_type": "code",
   "execution_count": 24,
   "id": "137c5bf5",
   "metadata": {},
   "outputs": [
    {
     "data": {
      "text/plain": [
       "True"
      ]
     },
     "execution_count": 24,
     "metadata": {},
     "output_type": "execute_result"
    }
   ],
   "source": [
    "# isdir only checks if the path is a directory and isfile only checks if the path is a file.\n",
    "os.path.isdir / os.path.isfile"
   ]
  },
  {
   "cell_type": "code",
   "execution_count": 25,
   "id": "a623d952",
   "metadata": {},
   "outputs": [
    {
     "data": {
      "text/plain": [
       "'C:\\\\\\\\Users\\\\\\\\Dell\\\\\\\\Desktop\\\\\\\\projects\\\\automate-create-project'"
      ]
     },
     "execution_count": 25,
     "metadata": {},
     "output_type": "execute_result"
    }
   ],
   "source": [
    "# The join method give you the ability to join one or more path components together using the appropriate separator.\n",
    "os.path.join(r'C:\\\\Users\\\\Dell\\\\Desktop\\\\projects', 'automate-create-project')"
   ]
  },
  {
   "cell_type": "code",
   "execution_count": 27,
   "id": "1c43dc3f",
   "metadata": {},
   "outputs": [
    {
     "data": {
      "text/plain": [
       "('C:\\\\\\\\Users\\\\\\\\Dell\\\\\\\\Desktop\\\\\\\\projects', 'automate-create-project')"
      ]
     },
     "execution_count": 27,
     "metadata": {},
     "output_type": "execute_result"
    }
   ],
   "source": [
    "# split it in such a way that the last sub-folder became the second element of the tuple with\n",
    "# the rest of the path in the first element.\n",
    "os.path.split(r'C:\\\\Users\\\\Dell\\\\Desktop\\\\projects\\\\automate-create-project')"
   ]
  },
  {
   "cell_type": "code",
   "execution_count": 72,
   "id": "fa998c76",
   "metadata": {},
   "outputs": [],
   "source": [
    "import ipywidgets as widgets\n",
    "import os\n",
    "import shutil\n"
   ]
  },
  {
   "cell_type": "code",
   "execution_count": null,
   "id": "b3209946",
   "metadata": {},
   "outputs": [],
   "source": [
    "# shutil.copy(os.makedirs(path), dst)"
   ]
  },
  {
   "cell_type": "code",
   "execution_count": 73,
   "id": "b8d7b968",
   "metadata": {},
   "outputs": [
    {
     "name": "stdout",
     "output_type": "stream",
     "text": [
      "shyam\n"
     ]
    }
   ],
   "source": [
    "path = input('')\n",
    "os.makedirs(path)"
   ]
  },
  {
   "cell_type": "code",
   "execution_count": 28,
   "id": "3de3c6de",
   "metadata": {},
   "outputs": [
    {
     "ename": "NameError",
     "evalue": "name 'path' is not defined",
     "output_type": "error",
     "traceback": [
      "\u001b[1;31m---------------------------------------------------------------------------\u001b[0m",
      "\u001b[1;31mNameError\u001b[0m                                 Traceback (most recent call last)",
      "Cell \u001b[1;32mIn[28], line 1\u001b[0m\n\u001b[1;32m----> 1\u001b[0m os\u001b[38;5;241m.\u001b[39mpath\u001b[38;5;241m.\u001b[39mbasename(\u001b[43mpath\u001b[49m)\n",
      "\u001b[1;31mNameError\u001b[0m: name 'path' is not defined"
     ]
    }
   ],
   "source": [
    "os.path.basename(path)"
   ]
  },
  {
   "cell_type": "code",
   "execution_count": 79,
   "id": "8d4cfd9c",
   "metadata": {},
   "outputs": [
    {
     "name": "stdout",
     "output_type": "stream",
     "text": [
      "None\n"
     ]
    }
   ],
   "source": [
    "print(os.getenv(\"mydjangoenv\"))"
   ]
  },
  {
   "cell_type": "code",
   "execution_count": 27,
   "id": "ab06702e",
   "metadata": {},
   "outputs": [
    {
     "name": "stdout",
     "output_type": "stream",
     "text": [
      "# conda environments:\n",
      "#\n",
      "base                  *  C:\\Users\\Dell\\anaconda3\n",
      "mydjangoenv              C:\\Users\\Dell\\anaconda3\\envs\\mydjangoenv\n",
      "\n"
     ]
    }
   ],
   "source": [
    "!conda env list"
   ]
  },
  {
   "cell_type": "code",
   "execution_count": 92,
   "id": "5cb12901",
   "metadata": {},
   "outputs": [],
   "source": [
    "!conda activate mydjangoenv\n",
    "!conda install jupyter\n",
    "!jupyter notebook"
   ]
  },
  {
   "cell_type": "code",
   "execution_count": 1,
   "id": "52008291",
   "metadata": {},
   "outputs": [],
   "source": [
    "# !pip install Django\n",
    "\n",
    "# !pip install django-extensions"
   ]
  },
  {
   "cell_type": "code",
   "execution_count": null,
   "id": "dd11d9d2",
   "metadata": {},
   "outputs": [],
   "source": [
    "# !pip install Django\n",
    "# # !pip install django-extensions\n",
    "\n",
    "# import os\n",
    "# import sys\n",
    "\n",
    "# def Path():\n",
    "#     project_name=input('')\n",
    "#     return project_name\n",
    "        \n",
    "# def Button_func():\n",
    "#     project_name=os.path.split(Path())\n",
    "    \n",
    "#     if project_name[0]=='':\n",
    "#         print(os.getcwd())\n",
    "#         create=f'django-admin startproject {project_name[1]}'\n",
    "#         sys(create)\n",
    "#     else:\n",
    "#         print(os.chdir(f'{project_name[0]}'))\n",
    "#         !django-admin startproject {project_name[1]}\n",
    "# Button_func()"
   ]
  },
  {
   "cell_type": "code",
   "execution_count": null,
   "id": "e23a0683",
   "metadata": {},
   "outputs": [],
   "source": [
    "import ipywidgets as widgets\n",
    "from IPython.display import display\n",
    "\n",
    "button = widgets.Button(description=\"Click Me!\")\n",
    "output = widgets.Output()\n",
    "\n",
    "button1 = widgets.Button(description=\"Click Me click me\")\n",
    "output1 = widgets.Output()\n",
    "\n",
    "display(button, output)\n",
    "display(button1, output1)\n",
    "\n",
    "def on_button_clicked(b):\n",
    "    with output:\n",
    "        print(\"Button clicked.\")\n",
    "        \n",
    "def on_button_clicked1(b):\n",
    "    with output1:\n",
    "        print(\"Button clicked yes click\")\n",
    "button.on_click(on_button_clicked)\n",
    "button1.on_click(on_button_clicked1)"
   ]
  },
  {
   "cell_type": "code",
   "execution_count": 3,
   "id": "cd091a2b",
   "metadata": {},
   "outputs": [
    {
     "data": {
      "text/plain": [
       "['C:\\\\Users\\\\Dell\\\\Desktop\\\\storage\\\\timeline\\\\2023\\\\april\\\\projects\\\\automate-create-project',\n",
       " 'C:\\\\Users\\\\Dell\\\\anaconda3\\\\python39.zip',\n",
       " 'C:\\\\Users\\\\Dell\\\\anaconda3\\\\DLLs',\n",
       " 'C:\\\\Users\\\\Dell\\\\anaconda3\\\\lib',\n",
       " 'C:\\\\Users\\\\Dell\\\\anaconda3',\n",
       " '',\n",
       " 'C:\\\\Users\\\\Dell\\\\anaconda3\\\\lib\\\\site-packages',\n",
       " 'C:\\\\Users\\\\Dell\\\\anaconda3\\\\lib\\\\site-packages\\\\win32',\n",
       " 'C:\\\\Users\\\\Dell\\\\anaconda3\\\\lib\\\\site-packages\\\\win32\\\\lib',\n",
       " 'C:\\\\Users\\\\Dell\\\\anaconda3\\\\lib\\\\site-packages\\\\Pythonwin']"
      ]
     },
     "execution_count": 3,
     "metadata": {},
     "output_type": "execute_result"
    }
   ],
   "source": [
    "import sys\n",
    "sys.path"
   ]
  },
  {
   "cell_type": "code",
   "execution_count": 18,
   "id": "6f7eddb8",
   "metadata": {},
   "outputs": [
    {
     "data": {
      "text/plain": [
       "3"
      ]
     },
     "execution_count": 18,
     "metadata": {},
     "output_type": "execute_result"
    }
   ],
   "source": [
    "import os,platform,sys\n",
    "sys.version_info.major\n",
    "# p=platform.python_version()\n",
    "# p\n"
   ]
  },
  {
   "cell_type": "code",
   "execution_count": 14,
   "id": "b2b18133",
   "metadata": {},
   "outputs": [
    {
     "name": "stdout",
     "output_type": "stream",
     "text": [
      "Python3\n"
     ]
    }
   ],
   "source": [
    "if sys.version_info.major == 3:\n",
    "    print('Python3')\n",
    "else:\n",
    "    print('Python2')"
   ]
  },
  {
   "cell_type": "code",
   "execution_count": 23,
   "id": "b49142eb",
   "metadata": {},
   "outputs": [
    {
     "name": "stdout",
     "output_type": "stream",
     "text": [
      "4.2\n"
     ]
    }
   ],
   "source": [
    "!django-admin --version"
   ]
  },
  {
   "cell_type": "code",
   "execution_count": 24,
   "id": "ba88cbed",
   "metadata": {},
   "outputs": [
    {
     "data": {
      "text/plain": [
       "'3.9.12 (main, Apr  4 2022, 05:22:27) [MSC v.1916 64 bit (AMD64)]'"
      ]
     },
     "execution_count": 24,
     "metadata": {},
     "output_type": "execute_result"
    }
   ],
   "source": [
    "import sys\n",
    "sys.version"
   ]
  },
  {
   "cell_type": "code",
   "execution_count": 27,
   "id": "a52a0dd8",
   "metadata": {},
   "outputs": [
    {
     "name": "stdout",
     "output_type": "stream",
     "text": [
      "pip 23.0.1 from C:\\Users\\Dell\\anaconda3\\lib\\site-packages\\pip (python 3.9)\n",
      "\n"
     ]
    }
   ],
   "source": [
    "!pip --version"
   ]
  }
 ],
 "metadata": {
  "kernelspec": {
   "display_name": "Python 3 (ipykernel)",
   "language": "python",
   "name": "python3"
  },
  "language_info": {
   "codemirror_mode": {
    "name": "ipython",
    "version": 3
   },
   "file_extension": ".py",
   "mimetype": "text/x-python",
   "name": "python",
   "nbconvert_exporter": "python",
   "pygments_lexer": "ipython3",
   "version": "3.9.12"
  }
 },
 "nbformat": 4,
 "nbformat_minor": 5
}
